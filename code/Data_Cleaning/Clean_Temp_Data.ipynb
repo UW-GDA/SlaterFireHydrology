{
 "cells": [
  {
   "cell_type": "code",
   "execution_count": 108,
   "id": "95504a7f-fb6e-4beb-9d6d-ef30d6a6e374",
   "metadata": {},
   "outputs": [],
   "source": [
    "import pandas as pd\n",
    "import datetime"
   ]
  },
  {
   "cell_type": "code",
   "execution_count": null,
   "id": "12d2bc80-59de-4a7a-94cc-ee7868b004c2",
   "metadata": {},
   "outputs": [],
   "source": []
  },
  {
   "cell_type": "code",
   "execution_count": null,
   "id": "35aaa7a1-2a24-493b-8322-d7eb7eb572a4",
   "metadata": {},
   "outputs": [],
   "source": []
  },
  {
   "cell_type": "code",
   "execution_count": 3,
   "id": "f01314e8-6904-4aed-b665-617fb5e53780",
   "metadata": {},
   "outputs": [],
   "source": [
    "root_dir='/home/jovyan/labs/SlaterFireHydrology';\n",
    "data_dir=root_dir+'/data';\n",
    "raw_dir=data_dir+'/Raw';"
   ]
  },
  {
   "cell_type": "code",
   "execution_count": 6,
   "id": "3bcdb2b3-b5ac-4906-902b-7dac7da15dde",
   "metadata": {},
   "outputs": [],
   "source": [
    "filename=raw_dir+'/IndianCreekFlowData.txt'"
   ]
  },
  {
   "cell_type": "code",
   "execution_count": 74,
   "id": "39f40738-4cb9-49fa-9bc1-655fd722722d",
   "metadata": {},
   "outputs": [],
   "source": [
    "dataframe=pd.read_csv(filename,header=30, skiprows=[31],\\\n",
    "                      delimiter='\\t', low_memory=False)\n"
   ]
  },
  {
   "cell_type": "code",
   "execution_count": 92,
   "id": "fa3a4f6c-8b07-4755-92f4-6e97b9178b4a",
   "metadata": {},
   "outputs": [],
   "source": [
    "dataframe.rename(mapper={'16574_00060':'discharge','16575_00065':'gage_ht'},inplace=True, axis=\"columns\")"
   ]
  },
  {
   "cell_type": "code",
   "execution_count": 101,
   "id": "4b505d10-7bff-4d2f-98b7-9f0b06d19366",
   "metadata": {},
   "outputs": [],
   "source": [
    "flow_df = dataframe[['datetime','discharge','gage_ht']]"
   ]
  },
  {
   "cell_type": "code",
   "execution_count": 103,
   "id": "ee21610a-cade-4f41-811f-4b7abfc725b0",
   "metadata": {},
   "outputs": [
    {
     "data": {
      "text/html": [
       "<div>\n",
       "<style scoped>\n",
       "    .dataframe tbody tr th:only-of-type {\n",
       "        vertical-align: middle;\n",
       "    }\n",
       "\n",
       "    .dataframe tbody tr th {\n",
       "        vertical-align: top;\n",
       "    }\n",
       "\n",
       "    .dataframe thead th {\n",
       "        text-align: right;\n",
       "    }\n",
       "</style>\n",
       "<table border=\"1\" class=\"dataframe\">\n",
       "  <thead>\n",
       "    <tr style=\"text-align: right;\">\n",
       "      <th></th>\n",
       "      <th>datetime</th>\n",
       "      <th>discharge</th>\n",
       "      <th>gage_ht</th>\n",
       "    </tr>\n",
       "  </thead>\n",
       "  <tbody>\n",
       "    <tr>\n",
       "      <th>0</th>\n",
       "      <td>2015-01-01 00:00</td>\n",
       "      <td>320.0</td>\n",
       "      <td>5.01</td>\n",
       "    </tr>\n",
       "    <tr>\n",
       "      <th>1</th>\n",
       "      <td>2015-01-01 00:15</td>\n",
       "      <td>320.0</td>\n",
       "      <td>5.01</td>\n",
       "    </tr>\n",
       "    <tr>\n",
       "      <th>2</th>\n",
       "      <td>2015-01-01 00:30</td>\n",
       "      <td>320.0</td>\n",
       "      <td>5.01</td>\n",
       "    </tr>\n",
       "    <tr>\n",
       "      <th>3</th>\n",
       "      <td>2015-01-01 00:45</td>\n",
       "      <td>320.0</td>\n",
       "      <td>5.01</td>\n",
       "    </tr>\n",
       "    <tr>\n",
       "      <th>4</th>\n",
       "      <td>2015-01-01 01:00</td>\n",
       "      <td>320.0</td>\n",
       "      <td>5.01</td>\n",
       "    </tr>\n",
       "  </tbody>\n",
       "</table>\n",
       "</div>"
      ],
      "text/plain": [
       "           datetime  discharge  gage_ht\n",
       "0  2015-01-01 00:00      320.0     5.01\n",
       "1  2015-01-01 00:15      320.0     5.01\n",
       "2  2015-01-01 00:30      320.0     5.01\n",
       "3  2015-01-01 00:45      320.0     5.01\n",
       "4  2015-01-01 01:00      320.0     5.01"
      ]
     },
     "execution_count": 103,
     "metadata": {},
     "output_type": "execute_result"
    }
   ],
   "source": [
    "flow_df.head()"
   ]
  },
  {
   "cell_type": "code",
   "execution_count": 119,
   "id": "246cfaf2-dbe6-478a-9513-c2ed71e66027",
   "metadata": {},
   "outputs": [
    {
     "name": "stderr",
     "output_type": "stream",
     "text": [
      "/tmp/ipykernel_355/3369843337.py:1: SettingWithCopyWarning: \n",
      "A value is trying to be set on a copy of a slice from a DataFrame.\n",
      "Try using .loc[row_indexer,col_indexer] = value instead\n",
      "\n",
      "See the caveats in the documentation: https://pandas.pydata.org/pandas-docs/stable/user_guide/indexing.html#returning-a-view-versus-a-copy\n",
      "  flow_df['date']=[str[:-6] for str in flow_df['datetime']]\n"
     ]
    }
   ],
   "source": [
    "flow_df['date']=[str[:-6] for str in flow_df['datetime']]"
   ]
  },
  {
   "cell_type": "code",
   "execution_count": 121,
   "id": "5d73f516-0f06-4ffc-aaac-bd77267a2756",
   "metadata": {},
   "outputs": [
    {
     "data": {
      "text/html": [
       "<div>\n",
       "<style scoped>\n",
       "    .dataframe tbody tr th:only-of-type {\n",
       "        vertical-align: middle;\n",
       "    }\n",
       "\n",
       "    .dataframe tbody tr th {\n",
       "        vertical-align: top;\n",
       "    }\n",
       "\n",
       "    .dataframe thead th {\n",
       "        text-align: right;\n",
       "    }\n",
       "</style>\n",
       "<table border=\"1\" class=\"dataframe\">\n",
       "  <thead>\n",
       "    <tr style=\"text-align: right;\">\n",
       "      <th></th>\n",
       "      <th>datetime</th>\n",
       "      <th>discharge</th>\n",
       "      <th>gage_ht</th>\n",
       "      <th>date</th>\n",
       "    </tr>\n",
       "  </thead>\n",
       "  <tbody>\n",
       "    <tr>\n",
       "      <th>0</th>\n",
       "      <td>2015-01-01 00:00</td>\n",
       "      <td>320.0</td>\n",
       "      <td>5.01</td>\n",
       "      <td>2015-01-01</td>\n",
       "    </tr>\n",
       "    <tr>\n",
       "      <th>1</th>\n",
       "      <td>2015-01-01 00:15</td>\n",
       "      <td>320.0</td>\n",
       "      <td>5.01</td>\n",
       "      <td>2015-01-01</td>\n",
       "    </tr>\n",
       "    <tr>\n",
       "      <th>2</th>\n",
       "      <td>2015-01-01 00:30</td>\n",
       "      <td>320.0</td>\n",
       "      <td>5.01</td>\n",
       "      <td>2015-01-01</td>\n",
       "    </tr>\n",
       "    <tr>\n",
       "      <th>3</th>\n",
       "      <td>2015-01-01 00:45</td>\n",
       "      <td>320.0</td>\n",
       "      <td>5.01</td>\n",
       "      <td>2015-01-01</td>\n",
       "    </tr>\n",
       "    <tr>\n",
       "      <th>4</th>\n",
       "      <td>2015-01-01 01:00</td>\n",
       "      <td>320.0</td>\n",
       "      <td>5.01</td>\n",
       "      <td>2015-01-01</td>\n",
       "    </tr>\n",
       "  </tbody>\n",
       "</table>\n",
       "</div>"
      ],
      "text/plain": [
       "           datetime  discharge  gage_ht        date\n",
       "0  2015-01-01 00:00      320.0     5.01  2015-01-01\n",
       "1  2015-01-01 00:15      320.0     5.01  2015-01-01\n",
       "2  2015-01-01 00:30      320.0     5.01  2015-01-01\n",
       "3  2015-01-01 00:45      320.0     5.01  2015-01-01\n",
       "4  2015-01-01 01:00      320.0     5.01  2015-01-01"
      ]
     },
     "execution_count": 121,
     "metadata": {},
     "output_type": "execute_result"
    }
   ],
   "source": [
    "flow_df.head()"
   ]
  },
  {
   "cell_type": "code",
   "execution_count": 128,
   "id": "20126019-3b2b-4b49-aa61-397787f8da3d",
   "metadata": {},
   "outputs": [],
   "source": [
    "flow_agg_df = flow_df.groupby(by='date').agg('mean')\n",
    "flow_agg_df.columns = flow_agg_df.columns.get_level_values(0)\n"
   ]
  },
  {
   "cell_type": "code",
   "execution_count": 130,
   "id": "70c0551b-4153-433f-8e21-5e977c9c3d1c",
   "metadata": {},
   "outputs": [
    {
     "data": {
      "text/html": [
       "<div>\n",
       "<style scoped>\n",
       "    .dataframe tbody tr th:only-of-type {\n",
       "        vertical-align: middle;\n",
       "    }\n",
       "\n",
       "    .dataframe tbody tr th {\n",
       "        vertical-align: top;\n",
       "    }\n",
       "\n",
       "    .dataframe thead th {\n",
       "        text-align: right;\n",
       "    }\n",
       "</style>\n",
       "<table border=\"1\" class=\"dataframe\">\n",
       "  <thead>\n",
       "    <tr style=\"text-align: right;\">\n",
       "      <th></th>\n",
       "      <th>discharge</th>\n",
       "      <th>gage_ht</th>\n",
       "    </tr>\n",
       "    <tr>\n",
       "      <th>date</th>\n",
       "      <th></th>\n",
       "      <th></th>\n",
       "    </tr>\n",
       "  </thead>\n",
       "  <tbody>\n",
       "    <tr>\n",
       "      <th>2015-01-01</th>\n",
       "      <td>310.656250</td>\n",
       "      <td>4.981979</td>\n",
       "    </tr>\n",
       "    <tr>\n",
       "      <th>2015-01-02</th>\n",
       "      <td>290.437500</td>\n",
       "      <td>4.922396</td>\n",
       "    </tr>\n",
       "    <tr>\n",
       "      <th>2015-01-03</th>\n",
       "      <td>272.614583</td>\n",
       "      <td>4.867604</td>\n",
       "    </tr>\n",
       "    <tr>\n",
       "      <th>2015-01-04</th>\n",
       "      <td>257.375000</td>\n",
       "      <td>4.817917</td>\n",
       "    </tr>\n",
       "    <tr>\n",
       "      <th>2015-01-05</th>\n",
       "      <td>244.250000</td>\n",
       "      <td>4.774167</td>\n",
       "    </tr>\n",
       "  </tbody>\n",
       "</table>\n",
       "</div>"
      ],
      "text/plain": [
       "             discharge   gage_ht\n",
       "date                            \n",
       "2015-01-01  310.656250  4.981979\n",
       "2015-01-02  290.437500  4.922396\n",
       "2015-01-03  272.614583  4.867604\n",
       "2015-01-04  257.375000  4.817917\n",
       "2015-01-05  244.250000  4.774167"
      ]
     },
     "execution_count": 130,
     "metadata": {},
     "output_type": "execute_result"
    }
   ],
   "source": [
    "flow_agg_df.head()"
   ]
  }
 ],
 "metadata": {
  "kernelspec": {
   "display_name": "Python 3 (ipykernel)",
   "language": "python",
   "name": "python3"
  },
  "language_info": {
   "codemirror_mode": {
    "name": "ipython",
    "version": 3
   },
   "file_extension": ".py",
   "mimetype": "text/x-python",
   "name": "python",
   "nbconvert_exporter": "python",
   "pygments_lexer": "ipython3",
   "version": "3.9.7"
  }
 },
 "nbformat": 4,
 "nbformat_minor": 5
}
