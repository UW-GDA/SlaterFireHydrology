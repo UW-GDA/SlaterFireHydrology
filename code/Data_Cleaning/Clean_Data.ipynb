{
 "cells": [
  {
   "cell_type": "code",
   "execution_count": 1,
   "id": "95504a7f-fb6e-4beb-9d6d-ef30d6a6e374",
   "metadata": {},
   "outputs": [],
   "source": [
    "import pandas as pd\n",
    "import datetime"
   ]
  },
  {
   "cell_type": "code",
   "execution_count": 8,
   "id": "f01314e8-6904-4aed-b665-617fb5e53780",
   "metadata": {},
   "outputs": [],
   "source": [
    "root_dir='/Users/robinruhm/Documents/Research/Fire Hydrology/SlaterFireHydrology';\n",
    "data_dir=root_dir+'/data';\n",
    "processed_dir =data_dir+'/Processed';\n",
    "raw_dir=data_dir+'/Raw';"
   ]
  },
  {
   "cell_type": "code",
   "execution_count": 62,
   "id": "e464d710-a3dd-4d4e-ad0c-19048552aa4b",
   "metadata": {},
   "outputs": [],
   "source": [
    "#precip_data_fn=raw_dir+'/salmonrivercavejunct.csv'\n",
    "output_file=processed_dir+'/IndianCreekFlowData.txt'"
   ]
  },
  {
   "cell_type": "code",
   "execution_count": 63,
   "id": "9a68af74-fccc-4e60-8b36-b046c5ece1c0",
   "metadata": {},
   "outputs": [],
   "source": [
    "#pd.read_csv(precip_data_fn).tail()"
   ]
  },
  {
   "cell_type": "code",
   "execution_count": 70,
   "id": "d9724308-adcf-4407-aa6a-cb1218fd2d99",
   "metadata": {},
   "outputs": [],
   "source": [
    "#weather_stations=['happycamp', 'orleans','salmonriver','cavejunction']\n",
    "#precip_data_fns={'happycamp': '/happycampprecipdata.csv',\\\n",
    "#                 'orleans': '/orleansprecipdata.csv',\\\n",
    "#                 'salmonriver':'/salmonrivercavejunct.csv',\\\n",
    "#                 'cavejunction':'/salmonrivercavejunct.csv'}\n",
    "#station_name = {'happycamp': 'USC00043761',\\\n",
    "#                 'orleans': 'USC00046508',\\\n",
    "#                 'salmonriver':'US1CASK0009',\\\n",
    "#                 'cavejunction':'US1ORJS0024'}"
   ]
  },
  {
   "cell_type": "code",
   "execution_count": 71,
   "id": "4cfb2285-233b-4452-9096-0a2afedb0471",
   "metadata": {},
   "outputs": [],
   "source": [
    "#precip_df = pd.read_csv(raw_dir+precip_data_fns[weather_stations[0]])[['DATE', 'PRCP', 'TMAX','TMIN','TOBS']].set_index('DATE')\n",
    "#precip_df=precip_df.rename(columns={'PRCP':'PRCP_'+weather_stations[0], 'TMAX':'TMAX_'+weather_stations[0], \\\n",
    "#                          'TMIN':'TMIN_'+weather_stations[0], 'TOBS':'TOBS_'+weather_stations[0]})"
   ]
  },
  {
   "cell_type": "code",
   "execution_count": 72,
   "id": "cd858f06-d24a-4560-b602-bfb02b79865c",
   "metadata": {},
   "outputs": [],
   "source": [
    "#for station in weather_stations[1:]:\n",
    "#    precip_station_df = pd.read_csv(precip_data_fn)[['STATION','DATE', 'PRCP']].set_index('DATE')\n",
    "#    precip_station_df=precip_station_df[precip_station_df['STATION']==station_name[station]]\n",
    "#    precip_station_df=precip_station_df.drop(columns=['STATION'])\n",
    "#    precip_station_df=precip_station_df.rename(columns={'PRCP':'PRCP_' + station})\n",
    "#    precip_df=precip_df.join(precip_station_df, how='outer')\n"
   ]
  },
  {
   "cell_type": "code",
   "execution_count": 73,
   "id": "6f6f239f-a95b-4206-8301-e6d200399394",
   "metadata": {},
   "outputs": [],
   "source": [
    "#precip_df.head()"
   ]
  },
  {
   "cell_type": "code",
   "execution_count": null,
   "id": "3bcdb2b3-b5ac-4906-902b-7dac7da15dde",
   "metadata": {},
   "outputs": [],
   "source": []
  },
  {
   "cell_type": "code",
   "execution_count": null,
   "id": "abd9eca6-06b8-401f-bb12-d70a8322ba10",
   "metadata": {},
   "outputs": [],
   "source": []
  },
  {
   "cell_type": "code",
   "execution_count": 74,
   "id": "b62a71e0-8025-4532-a7d8-9c5defeb4a6d",
   "metadata": {},
   "outputs": [],
   "source": [
    "river_names=['IndianCreek']#,'SalmonRiver','SuckerCreek']\n",
    "discharge_map={'IndianCreek': '296197_00060_00003', 'SalmonRiver':'47824_00060','SuckerCreek':'117619_00060'}\n",
    "#gage_ht_map={'IndianCreek': '16575_00065','SalmonRiver':'47825_00065','SuckerCreek':'117620_00065'}\n",
    "header_line_num={'IndianCreek': 28}#, 'SalmonRiver':31,'SuckerCreek':29}"
   ]
  },
  {
   "cell_type": "code",
   "execution_count": 75,
   "id": "25466837-4dec-42fc-bab3-5915c697809b",
   "metadata": {},
   "outputs": [],
   "source": [
    "\n",
    "begin_date = '2012-01-01'\n",
    "end_date='2022-12-07'\n",
    "\n",
    "#output_df = pd.DataFrame({'DATE':pd.date_range(begin_date, end_date)}).set_index('DATE')\n",
    "#output_df=output_df.join(precip_df.set_index(pd.DatetimeIndex(precip_df.index)), how='outer')"
   ]
  },
  {
   "cell_type": "code",
   "execution_count": 78,
   "id": "cdb710ef-85c8-426d-9e40-0304aa4f2ff9",
   "metadata": {},
   "outputs": [
    {
     "name": "stderr",
     "output_type": "stream",
     "text": [
      "/var/folders/1k/s33lj1kd7px7nbb93v5jzphc0000gn/T/ipykernel_71670/21605811.py:7: SettingWithCopyWarning: \n",
      "A value is trying to be set on a copy of a slice from a DataFrame.\n",
      "Try using .loc[row_indexer,col_indexer] = value instead\n",
      "\n",
      "See the caveats in the documentation: https://pandas.pydata.org/pandas-docs/stable/user_guide/indexing.html#returning-a-view-versus-a-copy\n",
      "  flow_df['discharge_'+river+'_daily_change']=flow_df['discharge_'+river].diff(periods=1)\n",
      "/var/folders/1k/s33lj1kd7px7nbb93v5jzphc0000gn/T/ipykernel_71670/21605811.py:9: SettingWithCopyWarning: \n",
      "A value is trying to be set on a copy of a slice from a DataFrame.\n",
      "Try using .loc[row_indexer,col_indexer] = value instead\n",
      "\n",
      "See the caveats in the documentation: https://pandas.pydata.org/pandas-docs/stable/user_guide/indexing.html#returning-a-view-versus-a-copy\n",
      "  flow_df['year']=split_date[0]\n"
     ]
    }
   ],
   "source": [
    "river = 'IndianCreek'\n",
    "flow_filename=raw_dir+'/'+ river+'FlowData.txt'\n",
    "dataframe=pd.read_csv(flow_filename,header=header_line_num[river], skiprows=[header_line_num[river]+1],\\\n",
    "        delimiter='\\t', low_memory=False)\n",
    "dataframe.rename(mapper={discharge_map[river]:'discharge_'+river},inplace=True, axis=\"columns\")\n",
    "flow_df = dataframe[['datetime','discharge_'+river]]\n",
    "flow_df['discharge_'+river+'_daily_change']=flow_df['discharge_'+river].diff(periods=1)\n",
    "split_date=flow_df['datetime'].str.split('-', expand=True)\n",
    "flow_df['year']=split_date[0]\n",
    "flow_df['month']=split_date[1]\n",
    "flow_df['day']=split_date[2]\n",
    "flow_df.drop(columns=['datetime'], inplace=True)\n"
   ]
  },
  {
   "cell_type": "code",
   "execution_count": 79,
   "id": "a68974a4-e38e-49fe-839a-92484f8524a8",
   "metadata": {},
   "outputs": [],
   "source": [
    "#output_df=precip_df\n",
    "#for river in river_names:\n",
    "#    flow_filename=raw_dir+'/'+ river+'FlowData.txt'\n",
    "#    dataframe=pd.read_csv(flow_filename,header=header_line_num[river], skiprows=[header_line_num[river]+1],\\\n",
    "#                      delimiter='\\t', low_memory=False)\n",
    "#    dataframe.rename(mapper={discharge_map[river]:'discharge_'+river,gage_ht_map[river]:'gage_ht_'+river},inplace=True, axis=\"columns\")\n",
    "#    flow_df = dataframe[['datetime','discharge_'+river,'gage_ht_'+river]]\n",
    "#    flow_df['DATE']=[str[:-6] for str in flow_df['datetime']]\n",
    "#    flow_df.drop(columns=['datetime'])\n",
    "#    flow_agg_df = flow_df.groupby(by='DATE').agg('mean')\n",
    "#    flow_agg_df.columns = flow_agg_df.columns.get_level_values(0)\n",
    "#    flow_agg_df['discharge_'+river+'_daily_change']=flow_agg_df['discharge_'+river].diff(periods=1) #Diff from previous day\n",
    "#    output_df = output_df.join(flow_agg_df, how='outer')\n",
    "    "
   ]
  },
  {
   "cell_type": "code",
   "execution_count": 80,
   "id": "4b505d10-7bff-4d2f-98b7-9f0b06d19366",
   "metadata": {},
   "outputs": [
    {
     "data": {
      "text/html": [
       "<div>\n",
       "<style scoped>\n",
       "    .dataframe tbody tr th:only-of-type {\n",
       "        vertical-align: middle;\n",
       "    }\n",
       "\n",
       "    .dataframe tbody tr th {\n",
       "        vertical-align: top;\n",
       "    }\n",
       "\n",
       "    .dataframe thead th {\n",
       "        text-align: right;\n",
       "    }\n",
       "</style>\n",
       "<table border=\"1\" class=\"dataframe\">\n",
       "  <thead>\n",
       "    <tr style=\"text-align: right;\">\n",
       "      <th></th>\n",
       "      <th>discharge_IndianCreek</th>\n",
       "      <th>discharge_IndianCreek_daily_change</th>\n",
       "      <th>year</th>\n",
       "      <th>month</th>\n",
       "      <th>day</th>\n",
       "    </tr>\n",
       "  </thead>\n",
       "  <tbody>\n",
       "    <tr>\n",
       "      <th>0</th>\n",
       "      <td>391.0</td>\n",
       "      <td>NaN</td>\n",
       "      <td>2012</td>\n",
       "      <td>01</td>\n",
       "      <td>01</td>\n",
       "    </tr>\n",
       "    <tr>\n",
       "      <th>1</th>\n",
       "      <td>296.0</td>\n",
       "      <td>-95.0</td>\n",
       "      <td>2012</td>\n",
       "      <td>01</td>\n",
       "      <td>02</td>\n",
       "    </tr>\n",
       "    <tr>\n",
       "      <th>2</th>\n",
       "      <td>244.0</td>\n",
       "      <td>-52.0</td>\n",
       "      <td>2012</td>\n",
       "      <td>01</td>\n",
       "      <td>03</td>\n",
       "    </tr>\n",
       "    <tr>\n",
       "      <th>3</th>\n",
       "      <td>210.0</td>\n",
       "      <td>-34.0</td>\n",
       "      <td>2012</td>\n",
       "      <td>01</td>\n",
       "      <td>04</td>\n",
       "    </tr>\n",
       "    <tr>\n",
       "      <th>4</th>\n",
       "      <td>188.0</td>\n",
       "      <td>-22.0</td>\n",
       "      <td>2012</td>\n",
       "      <td>01</td>\n",
       "      <td>05</td>\n",
       "    </tr>\n",
       "  </tbody>\n",
       "</table>\n",
       "</div>"
      ],
      "text/plain": [
       "   discharge_IndianCreek  discharge_IndianCreek_daily_change  year month day\n",
       "0                  391.0                                 NaN  2012    01  01\n",
       "1                  296.0                               -95.0  2012    01  02\n",
       "2                  244.0                               -52.0  2012    01  03\n",
       "3                  210.0                               -34.0  2012    01  04\n",
       "4                  188.0                               -22.0  2012    01  05"
      ]
     },
     "execution_count": 80,
     "metadata": {},
     "output_type": "execute_result"
    }
   ],
   "source": [
    "flow_df.head()"
   ]
  },
  {
   "cell_type": "code",
   "execution_count": 81,
   "id": "8f0df71b-51e0-49c8-92fd-6d6d7e6dee33",
   "metadata": {},
   "outputs": [],
   "source": [
    "flow_df.to_csv(output_file)"
   ]
  },
  {
   "cell_type": "code",
   "execution_count": null,
   "id": "215e25b8-227e-49c8-be8f-a31832200bbe",
   "metadata": {},
   "outputs": [],
   "source": []
  },
  {
   "cell_type": "code",
   "execution_count": null,
   "id": "cce10412-e127-4b23-a1da-b121b359bb11",
   "metadata": {},
   "outputs": [],
   "source": []
  },
  {
   "cell_type": "code",
   "execution_count": null,
   "id": "1017982d-8228-4443-b904-1b3e8590c875",
   "metadata": {},
   "outputs": [],
   "source": []
  },
  {
   "cell_type": "code",
   "execution_count": null,
   "id": "c2f20547-2224-4f48-8fde-4c1431cb1465",
   "metadata": {},
   "outputs": [],
   "source": []
  }
 ],
 "metadata": {
  "kernelspec": {
   "display_name": "Python 3 (ipykernel)",
   "language": "python",
   "name": "python3"
  },
  "language_info": {
   "codemirror_mode": {
    "name": "ipython",
    "version": 3
   },
   "file_extension": ".py",
   "mimetype": "text/x-python",
   "name": "python",
   "nbconvert_exporter": "python",
   "pygments_lexer": "ipython3",
   "version": "3.9.13"
  }
 },
 "nbformat": 4,
 "nbformat_minor": 5
}
