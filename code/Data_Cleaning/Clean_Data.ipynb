{
 "cells": [
  {
   "cell_type": "code",
   "execution_count": 187,
   "id": "95504a7f-fb6e-4beb-9d6d-ef30d6a6e374",
   "metadata": {},
   "outputs": [],
   "source": [
    "import pandas as pd\n",
    "import datetime\n",
    "import numpy as np"
   ]
  },
  {
   "cell_type": "code",
   "execution_count": 202,
   "id": "f01314e8-6904-4aed-b665-617fb5e53780",
   "metadata": {},
   "outputs": [],
   "source": [
    "root_dir='/Users/robinruhm/Documents/Research/Fire Hydrology/SlaterFireHydrology';\n",
    "data_dir=root_dir+'/data';\n",
    "processed_dir =data_dir+'/Processed';\n",
    "raw_dir=data_dir+'/Raw';"
   ]
  },
  {
   "cell_type": "code",
   "execution_count": 203,
   "id": "e464d710-a3dd-4d4e-ad0c-19048552aa4b",
   "metadata": {},
   "outputs": [],
   "source": [
    "#precip_data_fn=raw_dir+'/salmonrivercavejunct.csv'\n",
    "output_file=processed_dir+'/RiverFlowData.txt'"
   ]
  },
  {
   "cell_type": "code",
   "execution_count": 204,
   "id": "9a68af74-fccc-4e60-8b36-b046c5ece1c0",
   "metadata": {},
   "outputs": [],
   "source": [
    "#pd.read_csv(precip_data_fn).tail()"
   ]
  },
  {
   "cell_type": "code",
   "execution_count": 205,
   "id": "d9724308-adcf-4407-aa6a-cb1218fd2d99",
   "metadata": {},
   "outputs": [],
   "source": [
    "#weather_stations=['happycamp', 'orleans','salmonriver','cavejunction']\n",
    "#precip_data_fns={'happycamp': '/happycampprecipdata.csv',\\\n",
    "#                 'orleans': '/orleansprecipdata.csv',\\\n",
    "#                 'salmonriver':'/salmonrivercavejunct.csv',\\\n",
    "#                 'cavejunction':'/salmonrivercavejunct.csv'}\n",
    "#station_name = {'happycamp': 'USC00043761',\\\n",
    "#                 'orleans': 'USC00046508',\\\n",
    "#                 'salmonriver':'US1CASK0009',\\\n",
    "#                 'cavejunction':'US1ORJS0024'}"
   ]
  },
  {
   "cell_type": "code",
   "execution_count": 206,
   "id": "4cfb2285-233b-4452-9096-0a2afedb0471",
   "metadata": {},
   "outputs": [],
   "source": [
    "#precip_df = pd.read_csv(raw_dir+precip_data_fns[weather_stations[0]])[['DATE', 'PRCP', 'TMAX','TMIN','TOBS']].set_index('DATE')\n",
    "#precip_df=precip_df.rename(columns={'PRCP':'PRCP_'+weather_stations[0], 'TMAX':'TMAX_'+weather_stations[0], \\\n",
    "#                          'TMIN':'TMIN_'+weather_stations[0], 'TOBS':'TOBS_'+weather_stations[0]})"
   ]
  },
  {
   "cell_type": "code",
   "execution_count": 207,
   "id": "cd858f06-d24a-4560-b602-bfb02b79865c",
   "metadata": {},
   "outputs": [],
   "source": [
    "#for station in weather_stations[1:]:\n",
    "#    precip_station_df = pd.read_csv(precip_data_fn)[['STATION','DATE', 'PRCP']].set_index('DATE')\n",
    "#    precip_station_df=precip_station_df[precip_station_df['STATION']==station_name[station]]\n",
    "#    precip_station_df=precip_station_df.drop(columns=['STATION'])\n",
    "#    precip_station_df=precip_station_df.rename(columns={'PRCP':'PRCP_' + station})\n",
    "#    precip_df=precip_df.join(precip_station_df, how='outer')\n"
   ]
  },
  {
   "cell_type": "code",
   "execution_count": 208,
   "id": "6f6f239f-a95b-4206-8301-e6d200399394",
   "metadata": {},
   "outputs": [],
   "source": [
    "#precip_df.head()"
   ]
  },
  {
   "cell_type": "code",
   "execution_count": null,
   "id": "3bcdb2b3-b5ac-4906-902b-7dac7da15dde",
   "metadata": {},
   "outputs": [],
   "source": []
  },
  {
   "cell_type": "code",
   "execution_count": null,
   "id": "abd9eca6-06b8-401f-bb12-d70a8322ba10",
   "metadata": {},
   "outputs": [],
   "source": []
  },
  {
   "cell_type": "code",
   "execution_count": 209,
   "id": "b62a71e0-8025-4532-a7d8-9c5defeb4a6d",
   "metadata": {},
   "outputs": [],
   "source": [
    "river_names=['IndianCreek', 'WillowCreek', 'CacheCreek', 'SuckerCreek', 'JockoRiver','SalmonFallsCreek']#,'SalmonRiver']\n",
    "discharge_map={'IndianCreek': '296197_00060_00003','WillowCreek':'213773_00060_00003', 'CacheCreek': '11067_00060_00003', 'SuckerCreek':'114843_00060_00003', \\\n",
    "              'JockoRiver': '82127_00060_00003', 'SalmonFallsCreek': '45609_00060_00003'}#, 'SalmonRiver':'47824_00060'}\n",
    "#gage_ht_map={'IndianCreek': '16575_00065','SalmonRiver':'47825_00065','SuckerCreek':'117620_00065'}\n",
    "header_line_num={'IndianCreek': 28, 'WillowCreek': 27, 'CacheCreek': 28, 'SuckerCreek':28, 'JockoRiver': 29,'SalmonFallsCreek': 30}#, 'SalmonRiver':31,'SuckerCreek':29}"
   ]
  },
  {
   "cell_type": "code",
   "execution_count": 210,
   "id": "25466837-4dec-42fc-bab3-5915c697809b",
   "metadata": {},
   "outputs": [],
   "source": [
    "\n",
    "begin_date = '2000-01-01'\n",
    "end_date='2022-12-07'\n",
    "\n",
    "#output_df = pd.DataFrame({'DATE':pd.date_range(begin_date, end_date)}).set_index('DATE')\n",
    "#output_df=output_df.join(precip_df.set_index(pd.DatetimeIndex(precip_df.index)), how='outer')"
   ]
  },
  {
   "cell_type": "code",
   "execution_count": 219,
   "id": "950594ff-da6b-4b19-85f7-4e2b6e140daa",
   "metadata": {},
   "outputs": [
    {
     "name": "stderr",
     "output_type": "stream",
     "text": [
      "/var/folders/1k/s33lj1kd7px7nbb93v5jzphc0000gn/T/ipykernel_71670/861855333.py:7: SettingWithCopyWarning: \n",
      "A value is trying to be set on a copy of a slice from a DataFrame.\n",
      "Try using .loc[row_indexer,col_indexer] = value instead\n",
      "\n",
      "See the caveats in the documentation: https://pandas.pydata.org/pandas-docs/stable/user_guide/indexing.html#returning-a-view-versus-a-copy\n",
      "  out_df['discharge_'+river+'_daily_change']=out_df['discharge_'+river].diff(periods=1)\n",
      "/var/folders/1k/s33lj1kd7px7nbb93v5jzphc0000gn/T/ipykernel_71670/861855333.py:16: SettingWithCopyWarning: \n",
      "A value is trying to be set on a copy of a slice from a DataFrame\n",
      "\n",
      "See the caveats in the documentation: https://pandas.pydata.org/pandas-docs/stable/user_guide/indexing.html#returning-a-view-versus-a-copy\n",
      "  flow_df['discharge_' + river].replace('Ice', 'nan', inplace=True)\n",
      "/var/folders/1k/s33lj1kd7px7nbb93v5jzphc0000gn/T/ipykernel_71670/861855333.py:17: SettingWithCopyWarning: \n",
      "A value is trying to be set on a copy of a slice from a DataFrame.\n",
      "Try using .loc[row_indexer,col_indexer] = value instead\n",
      "\n",
      "See the caveats in the documentation: https://pandas.pydata.org/pandas-docs/stable/user_guide/indexing.html#returning-a-view-versus-a-copy\n",
      "  flow_df['discharge_' + river]= flow_df['discharge_' + river].astype(float)\n",
      "/var/folders/1k/s33lj1kd7px7nbb93v5jzphc0000gn/T/ipykernel_71670/861855333.py:18: SettingWithCopyWarning: \n",
      "A value is trying to be set on a copy of a slice from a DataFrame.\n",
      "Try using .loc[row_indexer,col_indexer] = value instead\n",
      "\n",
      "See the caveats in the documentation: https://pandas.pydata.org/pandas-docs/stable/user_guide/indexing.html#returning-a-view-versus-a-copy\n",
      "  flow_df['discharge_'+river+'_daily_change']=flow_df['discharge_'+river].diff(periods=1)\n",
      "/var/folders/1k/s33lj1kd7px7nbb93v5jzphc0000gn/T/ipykernel_71670/861855333.py:16: SettingWithCopyWarning: \n",
      "A value is trying to be set on a copy of a slice from a DataFrame\n",
      "\n",
      "See the caveats in the documentation: https://pandas.pydata.org/pandas-docs/stable/user_guide/indexing.html#returning-a-view-versus-a-copy\n",
      "  flow_df['discharge_' + river].replace('Ice', 'nan', inplace=True)\n",
      "/var/folders/1k/s33lj1kd7px7nbb93v5jzphc0000gn/T/ipykernel_71670/861855333.py:17: SettingWithCopyWarning: \n",
      "A value is trying to be set on a copy of a slice from a DataFrame.\n",
      "Try using .loc[row_indexer,col_indexer] = value instead\n",
      "\n",
      "See the caveats in the documentation: https://pandas.pydata.org/pandas-docs/stable/user_guide/indexing.html#returning-a-view-versus-a-copy\n",
      "  flow_df['discharge_' + river]= flow_df['discharge_' + river].astype(float)\n",
      "/var/folders/1k/s33lj1kd7px7nbb93v5jzphc0000gn/T/ipykernel_71670/861855333.py:18: SettingWithCopyWarning: \n",
      "A value is trying to be set on a copy of a slice from a DataFrame.\n",
      "Try using .loc[row_indexer,col_indexer] = value instead\n",
      "\n",
      "See the caveats in the documentation: https://pandas.pydata.org/pandas-docs/stable/user_guide/indexing.html#returning-a-view-versus-a-copy\n",
      "  flow_df['discharge_'+river+'_daily_change']=flow_df['discharge_'+river].diff(periods=1)\n",
      "/var/folders/1k/s33lj1kd7px7nbb93v5jzphc0000gn/T/ipykernel_71670/861855333.py:16: SettingWithCopyWarning: \n",
      "A value is trying to be set on a copy of a slice from a DataFrame\n",
      "\n",
      "See the caveats in the documentation: https://pandas.pydata.org/pandas-docs/stable/user_guide/indexing.html#returning-a-view-versus-a-copy\n",
      "  flow_df['discharge_' + river].replace('Ice', 'nan', inplace=True)\n",
      "/var/folders/1k/s33lj1kd7px7nbb93v5jzphc0000gn/T/ipykernel_71670/861855333.py:17: SettingWithCopyWarning: \n",
      "A value is trying to be set on a copy of a slice from a DataFrame.\n",
      "Try using .loc[row_indexer,col_indexer] = value instead\n",
      "\n",
      "See the caveats in the documentation: https://pandas.pydata.org/pandas-docs/stable/user_guide/indexing.html#returning-a-view-versus-a-copy\n",
      "  flow_df['discharge_' + river]= flow_df['discharge_' + river].astype(float)\n",
      "/var/folders/1k/s33lj1kd7px7nbb93v5jzphc0000gn/T/ipykernel_71670/861855333.py:18: SettingWithCopyWarning: \n",
      "A value is trying to be set on a copy of a slice from a DataFrame.\n",
      "Try using .loc[row_indexer,col_indexer] = value instead\n",
      "\n",
      "See the caveats in the documentation: https://pandas.pydata.org/pandas-docs/stable/user_guide/indexing.html#returning-a-view-versus-a-copy\n",
      "  flow_df['discharge_'+river+'_daily_change']=flow_df['discharge_'+river].diff(periods=1)\n",
      "/var/folders/1k/s33lj1kd7px7nbb93v5jzphc0000gn/T/ipykernel_71670/861855333.py:16: SettingWithCopyWarning: \n",
      "A value is trying to be set on a copy of a slice from a DataFrame\n",
      "\n",
      "See the caveats in the documentation: https://pandas.pydata.org/pandas-docs/stable/user_guide/indexing.html#returning-a-view-versus-a-copy\n",
      "  flow_df['discharge_' + river].replace('Ice', 'nan', inplace=True)\n",
      "/var/folders/1k/s33lj1kd7px7nbb93v5jzphc0000gn/T/ipykernel_71670/861855333.py:17: SettingWithCopyWarning: \n",
      "A value is trying to be set on a copy of a slice from a DataFrame.\n",
      "Try using .loc[row_indexer,col_indexer] = value instead\n",
      "\n",
      "See the caveats in the documentation: https://pandas.pydata.org/pandas-docs/stable/user_guide/indexing.html#returning-a-view-versus-a-copy\n",
      "  flow_df['discharge_' + river]= flow_df['discharge_' + river].astype(float)\n",
      "/var/folders/1k/s33lj1kd7px7nbb93v5jzphc0000gn/T/ipykernel_71670/861855333.py:18: SettingWithCopyWarning: \n",
      "A value is trying to be set on a copy of a slice from a DataFrame.\n",
      "Try using .loc[row_indexer,col_indexer] = value instead\n",
      "\n",
      "See the caveats in the documentation: https://pandas.pydata.org/pandas-docs/stable/user_guide/indexing.html#returning-a-view-versus-a-copy\n",
      "  flow_df['discharge_'+river+'_daily_change']=flow_df['discharge_'+river].diff(periods=1)\n",
      "/var/folders/1k/s33lj1kd7px7nbb93v5jzphc0000gn/T/ipykernel_71670/861855333.py:16: SettingWithCopyWarning: \n",
      "A value is trying to be set on a copy of a slice from a DataFrame\n",
      "\n",
      "See the caveats in the documentation: https://pandas.pydata.org/pandas-docs/stable/user_guide/indexing.html#returning-a-view-versus-a-copy\n",
      "  flow_df['discharge_' + river].replace('Ice', 'nan', inplace=True)\n",
      "/var/folders/1k/s33lj1kd7px7nbb93v5jzphc0000gn/T/ipykernel_71670/861855333.py:17: SettingWithCopyWarning: \n",
      "A value is trying to be set on a copy of a slice from a DataFrame.\n",
      "Try using .loc[row_indexer,col_indexer] = value instead\n",
      "\n",
      "See the caveats in the documentation: https://pandas.pydata.org/pandas-docs/stable/user_guide/indexing.html#returning-a-view-versus-a-copy\n",
      "  flow_df['discharge_' + river]= flow_df['discharge_' + river].astype(float)\n",
      "/var/folders/1k/s33lj1kd7px7nbb93v5jzphc0000gn/T/ipykernel_71670/861855333.py:18: SettingWithCopyWarning: \n",
      "A value is trying to be set on a copy of a slice from a DataFrame.\n",
      "Try using .loc[row_indexer,col_indexer] = value instead\n",
      "\n",
      "See the caveats in the documentation: https://pandas.pydata.org/pandas-docs/stable/user_guide/indexing.html#returning-a-view-versus-a-copy\n",
      "  flow_df['discharge_'+river+'_daily_change']=flow_df['discharge_'+river].diff(periods=1)\n"
     ]
    }
   ],
   "source": [
    "river = river_names[0]\n",
    "flow_filename=raw_dir+'/'+ river+'FlowData.txt'\n",
    "dataframe=pd.read_csv(flow_filename,header=header_line_num[river], skiprows=[header_line_num[river]+1],\\\n",
    "        delimiter='\\t', low_memory=False)\n",
    "dataframe.rename(mapper={discharge_map[river]:'discharge_'+river},inplace=True, axis=\"columns\")\n",
    "out_df = dataframe[['datetime','discharge_'+river]]\n",
    "out_df['discharge_'+river+'_daily_change']=out_df['discharge_'+river].diff(periods=1)\n",
    "#out_df.set_index(keys='datetime', inplace=True)\n",
    "\n",
    "for river in river_names[1:]:\n",
    "    flow_filename=raw_dir+'/'+ river+'FlowData.txt'\n",
    "    dataframe=pd.read_csv(flow_filename,header=header_line_num[river], skiprows=[header_line_num[river]+1],\\\n",
    "            delimiter='\\t', low_memory=False)\n",
    "    dataframe.rename(mapper={discharge_map[river]:'discharge_'+river},inplace=True, axis=\"columns\")\n",
    "    flow_df = dataframe[['datetime','discharge_'+river]]\n",
    "    flow_df['discharge_' + river].replace('Ice', 'nan', inplace=True)\n",
    "    flow_df['discharge_' + river]= flow_df['discharge_' + river].astype(float)\n",
    "    flow_df['discharge_'+river+'_daily_change']=flow_df['discharge_'+river].diff(periods=1)\n",
    "    flow_df.set_index(keys='datetime', inplace=True)\n",
    "    out_df = out_df.join(flow_df, on='datetime', how='outer')"
   ]
  },
  {
   "cell_type": "code",
   "execution_count": 221,
   "id": "8f0df71b-51e0-49c8-92fd-6d6d7e6dee33",
   "metadata": {},
   "outputs": [],
   "source": [
    "split_date=out_df['datetime'].str.split('-', expand=True)\n",
    "out_df['year']=split_date[0]\n",
    "out_df['month']=split_date[1]\n",
    "out_df['day']=split_date[2]\n",
    "out_df.to_csv(output_file)"
   ]
  },
  {
   "cell_type": "code",
   "execution_count": null,
   "id": "1017982d-8228-4443-b904-1b3e8590c875",
   "metadata": {},
   "outputs": [],
   "source": []
  },
  {
   "cell_type": "code",
   "execution_count": null,
   "id": "c2f20547-2224-4f48-8fde-4c1431cb1465",
   "metadata": {},
   "outputs": [],
   "source": []
  }
 ],
 "metadata": {
  "kernelspec": {
   "display_name": "Python 3 (ipykernel)",
   "language": "python",
   "name": "python3"
  },
  "language_info": {
   "codemirror_mode": {
    "name": "ipython",
    "version": 3
   },
   "file_extension": ".py",
   "mimetype": "text/x-python",
   "name": "python",
   "nbconvert_exporter": "python",
   "pygments_lexer": "ipython3",
   "version": "3.9.13"
  }
 },
 "nbformat": 4,
 "nbformat_minor": 5
}
