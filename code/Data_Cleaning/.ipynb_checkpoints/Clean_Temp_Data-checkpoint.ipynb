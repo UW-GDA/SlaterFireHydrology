{
 "cells": [
  {
   "cell_type": "code",
   "execution_count": 1,
   "id": "95504a7f-fb6e-4beb-9d6d-ef30d6a6e374",
   "metadata": {},
   "outputs": [],
   "source": [
    "import pandas as pd"
   ]
  },
  {
   "cell_type": "code",
   "execution_count": 3,
   "id": "f01314e8-6904-4aed-b665-617fb5e53780",
   "metadata": {},
   "outputs": [],
   "source": [
    "root_dir='/home/jovyan/labs/SlaterFireHydrology';\n",
    "data_dir=root_dir+'/data';\n",
    "raw_dir=data_dir+'/Raw';"
   ]
  },
  {
   "cell_type": "code",
   "execution_count": 6,
   "id": "3bcdb2b3-b5ac-4906-902b-7dac7da15dde",
   "metadata": {},
   "outputs": [],
   "source": [
    "filename=raw_dir+'/IndianCreekFlowData.txt'"
   ]
  },
  {
   "cell_type": "code",
   "execution_count": 35,
   "id": "2cc3b488-f8ae-4a27-ab13-ad6713595f77",
   "metadata": {},
   "outputs": [],
   "source": [
    "dataframe=pd.read_csv(filename,skiprows=lambda x: x in range(29) or x ==31,delimiter='\\t', low_memory=False)\n"
   ]
  },
  {
   "cell_type": "code",
   "execution_count": 36,
   "id": "efbafcbb-a2c2-43dd-8b24-4136f9dc38bb",
   "metadata": {},
   "outputs": [
    {
     "data": {
      "text/html": [
       "<div>\n",
       "<style scoped>\n",
       "    .dataframe tbody tr th:only-of-type {\n",
       "        vertical-align: middle;\n",
       "    }\n",
       "\n",
       "    .dataframe tbody tr th {\n",
       "        vertical-align: top;\n",
       "    }\n",
       "\n",
       "    .dataframe thead th {\n",
       "        text-align: right;\n",
       "    }\n",
       "</style>\n",
       "<table border=\"1\" class=\"dataframe\">\n",
       "  <thead>\n",
       "    <tr style=\"text-align: right;\">\n",
       "      <th></th>\n",
       "      <th></th>\n",
       "      <th></th>\n",
       "      <th></th>\n",
       "      <th></th>\n",
       "      <th></th>\n",
       "      <th></th>\n",
       "      <th>#</th>\n",
       "    </tr>\n",
       "  </thead>\n",
       "  <tbody>\n",
       "    <tr>\n",
       "      <th>agency_cd</th>\n",
       "      <th>site_no</th>\n",
       "      <th>datetime</th>\n",
       "      <th>tz_cd</th>\n",
       "      <th>16574_00060</th>\n",
       "      <th>16574_00060_cd</th>\n",
       "      <th>16575_00065</th>\n",
       "      <td>16575_00065_cd</td>\n",
       "    </tr>\n",
       "    <tr>\n",
       "      <th rowspan=\"4\" valign=\"top\">USGS</th>\n",
       "      <th rowspan=\"4\" valign=\"top\">11521500</th>\n",
       "      <th>2015-01-01 00:00</th>\n",
       "      <th>PST</th>\n",
       "      <th>320</th>\n",
       "      <th>A</th>\n",
       "      <th>5.01</th>\n",
       "      <td>A</td>\n",
       "    </tr>\n",
       "    <tr>\n",
       "      <th>2015-01-01 00:15</th>\n",
       "      <th>PST</th>\n",
       "      <th>320</th>\n",
       "      <th>A</th>\n",
       "      <th>5.01</th>\n",
       "      <td>A</td>\n",
       "    </tr>\n",
       "    <tr>\n",
       "      <th>2015-01-01 00:30</th>\n",
       "      <th>PST</th>\n",
       "      <th>320</th>\n",
       "      <th>A</th>\n",
       "      <th>5.01</th>\n",
       "      <td>A</td>\n",
       "    </tr>\n",
       "    <tr>\n",
       "      <th>2015-01-01 00:45</th>\n",
       "      <th>PST</th>\n",
       "      <th>320</th>\n",
       "      <th>A</th>\n",
       "      <th>5.01</th>\n",
       "      <td>A</td>\n",
       "    </tr>\n",
       "  </tbody>\n",
       "</table>\n",
       "</div>"
      ],
      "text/plain": [
       "                                                                                              # \n",
       "agency_cd site_no  datetime         tz_cd 16574_00060 16574_00060_cd 16575_00065  16575_00065_cd\n",
       "USGS      11521500 2015-01-01 00:00 PST   320         A              5.01                      A\n",
       "                   2015-01-01 00:15 PST   320         A              5.01                      A\n",
       "                   2015-01-01 00:30 PST   320         A              5.01                      A\n",
       "                   2015-01-01 00:45 PST   320         A              5.01                      A"
      ]
     },
     "execution_count": 36,
     "metadata": {},
     "output_type": "execute_result"
    }
   ],
   "source": [
    "dataframe.head()"
   ]
  },
  {
   "cell_type": "code",
   "execution_count": 30,
   "id": "fa3a4f6c-8b07-4755-92f4-6e97b9178b4a",
   "metadata": {},
   "outputs": [
    {
     "ename": "SyntaxError",
     "evalue": "invalid syntax (3590464057.py, line 1)",
     "output_type": "error",
     "traceback": [
      "\u001b[0;36m  File \u001b[0;32m\"/tmp/ipykernel_355/3590464057.py\"\u001b[0;36m, line \u001b[0;32m1\u001b[0m\n\u001b[0;31m    [:20]\u001b[0m\n\u001b[0m     ^\u001b[0m\n\u001b[0;31mSyntaxError\u001b[0m\u001b[0;31m:\u001b[0m invalid syntax\n"
     ]
    }
   ],
   "source": [
    "range"
   ]
  },
  {
   "cell_type": "code",
   "execution_count": null,
   "id": "3106aa7e-3f29-4c7e-a06e-1fb430606873",
   "metadata": {},
   "outputs": [],
   "source": []
  }
 ],
 "metadata": {
  "kernelspec": {
   "display_name": "Python 3 (ipykernel)",
   "language": "python",
   "name": "python3"
  },
  "language_info": {
   "codemirror_mode": {
    "name": "ipython",
    "version": 3
   },
   "file_extension": ".py",
   "mimetype": "text/x-python",
   "name": "python",
   "nbconvert_exporter": "python",
   "pygments_lexer": "ipython3",
   "version": "3.9.7"
  }
 },
 "nbformat": 4,
 "nbformat_minor": 5
}
