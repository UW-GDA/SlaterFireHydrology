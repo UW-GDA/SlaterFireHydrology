{
 "cells": [
  {
   "cell_type": "code",
   "execution_count": 9,
   "id": "1401a40f-8a95-4f3a-8084-cbe5cf859216",
   "metadata": {},
   "outputs": [],
   "source": [
    "import pandas as pd"
   ]
  },
  {
   "cell_type": "code",
   "execution_count": 10,
   "id": "bb356e95-32c1-4806-bd97-610dcba3295c",
   "metadata": {},
   "outputs": [],
   "source": [
    "root_dir='/home/jovyan/labs/SlaterFireHydrology';\n",
    "data_dir=root_dir+'/data';\n",
    "raw_dir=data_dir+'/Raw';"
   ]
  },
  {
   "cell_type": "code",
   "execution_count": 11,
   "id": "d6cbe935-601d-4bbe-9ba2-35d04f866382",
   "metadata": {},
   "outputs": [],
   "source": [
    "precip_data_fn=raw_dir+'/happycampprecipdata.csv'"
   ]
  },
  {
   "cell_type": "code",
   "execution_count": 14,
   "id": "a3018d23-0a3b-4d87-9434-eb58f03c8e2c",
   "metadata": {},
   "outputs": [],
   "source": [
    "\n",
    "\n",
    "precip_df = pd.read_csv(precip_data_fn)\n"
   ]
  },
  {
   "cell_type": "code",
   "execution_count": 17,
   "id": "082d7c92-f42a-4972-801b-da40cd30a050",
   "metadata": {},
   "outputs": [
    {
     "data": {
      "text/html": [
       "<div>\n",
       "<style scoped>\n",
       "    .dataframe tbody tr th:only-of-type {\n",
       "        vertical-align: middle;\n",
       "    }\n",
       "\n",
       "    .dataframe tbody tr th {\n",
       "        vertical-align: top;\n",
       "    }\n",
       "\n",
       "    .dataframe thead th {\n",
       "        text-align: right;\n",
       "    }\n",
       "</style>\n",
       "<table border=\"1\" class=\"dataframe\">\n",
       "  <thead>\n",
       "    <tr style=\"text-align: right;\">\n",
       "      <th></th>\n",
       "      <th>STATION</th>\n",
       "      <th>NAME</th>\n",
       "      <th>DATE</th>\n",
       "      <th>DAPR</th>\n",
       "      <th>MDPR</th>\n",
       "      <th>PRCP</th>\n",
       "      <th>SNOW</th>\n",
       "      <th>SNWD</th>\n",
       "      <th>TMAX</th>\n",
       "      <th>TMIN</th>\n",
       "      <th>TOBS</th>\n",
       "    </tr>\n",
       "  </thead>\n",
       "  <tbody>\n",
       "    <tr>\n",
       "      <th>0</th>\n",
       "      <td>USC00043761</td>\n",
       "      <td>HAPPY CAMP RANGER STATION, CA US</td>\n",
       "      <td>2015-01-02</td>\n",
       "      <td>NaN</td>\n",
       "      <td>NaN</td>\n",
       "      <td>0.0</td>\n",
       "      <td>NaN</td>\n",
       "      <td>NaN</td>\n",
       "      <td>48.0</td>\n",
       "      <td>17.0</td>\n",
       "      <td>18.0</td>\n",
       "    </tr>\n",
       "    <tr>\n",
       "      <th>1</th>\n",
       "      <td>USC00043761</td>\n",
       "      <td>HAPPY CAMP RANGER STATION, CA US</td>\n",
       "      <td>2015-01-05</td>\n",
       "      <td>NaN</td>\n",
       "      <td>NaN</td>\n",
       "      <td>0.0</td>\n",
       "      <td>NaN</td>\n",
       "      <td>NaN</td>\n",
       "      <td>NaN</td>\n",
       "      <td>NaN</td>\n",
       "      <td>33.0</td>\n",
       "    </tr>\n",
       "    <tr>\n",
       "      <th>2</th>\n",
       "      <td>USC00043761</td>\n",
       "      <td>HAPPY CAMP RANGER STATION, CA US</td>\n",
       "      <td>2015-01-06</td>\n",
       "      <td>NaN</td>\n",
       "      <td>NaN</td>\n",
       "      <td>0.0</td>\n",
       "      <td>NaN</td>\n",
       "      <td>NaN</td>\n",
       "      <td>47.0</td>\n",
       "      <td>31.0</td>\n",
       "      <td>32.0</td>\n",
       "    </tr>\n",
       "    <tr>\n",
       "      <th>3</th>\n",
       "      <td>USC00043761</td>\n",
       "      <td>HAPPY CAMP RANGER STATION, CA US</td>\n",
       "      <td>2015-01-08</td>\n",
       "      <td>NaN</td>\n",
       "      <td>NaN</td>\n",
       "      <td>0.0</td>\n",
       "      <td>NaN</td>\n",
       "      <td>NaN</td>\n",
       "      <td>60.0</td>\n",
       "      <td>33.0</td>\n",
       "      <td>34.0</td>\n",
       "    </tr>\n",
       "    <tr>\n",
       "      <th>4</th>\n",
       "      <td>USC00043761</td>\n",
       "      <td>HAPPY CAMP RANGER STATION, CA US</td>\n",
       "      <td>2015-01-09</td>\n",
       "      <td>NaN</td>\n",
       "      <td>NaN</td>\n",
       "      <td>0.0</td>\n",
       "      <td>NaN</td>\n",
       "      <td>NaN</td>\n",
       "      <td>49.0</td>\n",
       "      <td>33.0</td>\n",
       "      <td>38.0</td>\n",
       "    </tr>\n",
       "  </tbody>\n",
       "</table>\n",
       "</div>"
      ],
      "text/plain": [
       "       STATION                              NAME        DATE  DAPR  MDPR  \\\n",
       "0  USC00043761  HAPPY CAMP RANGER STATION, CA US  2015-01-02   NaN   NaN   \n",
       "1  USC00043761  HAPPY CAMP RANGER STATION, CA US  2015-01-05   NaN   NaN   \n",
       "2  USC00043761  HAPPY CAMP RANGER STATION, CA US  2015-01-06   NaN   NaN   \n",
       "3  USC00043761  HAPPY CAMP RANGER STATION, CA US  2015-01-08   NaN   NaN   \n",
       "4  USC00043761  HAPPY CAMP RANGER STATION, CA US  2015-01-09   NaN   NaN   \n",
       "\n",
       "   PRCP  SNOW  SNWD  TMAX  TMIN  TOBS  \n",
       "0   0.0   NaN   NaN  48.0  17.0  18.0  \n",
       "1   0.0   NaN   NaN   NaN   NaN  33.0  \n",
       "2   0.0   NaN   NaN  47.0  31.0  32.0  \n",
       "3   0.0   NaN   NaN  60.0  33.0  34.0  \n",
       "4   0.0   NaN   NaN  49.0  33.0  38.0  "
      ]
     },
     "execution_count": 17,
     "metadata": {},
     "output_type": "execute_result"
    }
   ],
   "source": [
    "precip_df.head()"
   ]
  },
  {
   "cell_type": "code",
   "execution_count": 20,
   "id": "4571940c-62d1-402e-9f49-a8c6a388a3a5",
   "metadata": {},
   "outputs": [
    {
     "data": {
      "text/plain": [
       "15.0"
      ]
     },
     "execution_count": 20,
     "metadata": {},
     "output_type": "execute_result"
    }
   ],
   "source": [
    "precip_df.TMIN.min()"
   ]
  }
 ],
 "metadata": {
  "kernelspec": {
   "display_name": "Python 3 (ipykernel)",
   "language": "python",
   "name": "python3"
  },
  "language_info": {
   "codemirror_mode": {
    "name": "ipython",
    "version": 3
   },
   "file_extension": ".py",
   "mimetype": "text/x-python",
   "name": "python",
   "nbconvert_exporter": "python",
   "pygments_lexer": "ipython3",
   "version": "3.9.7"
  }
 },
 "nbformat": 4,
 "nbformat_minor": 5
}
