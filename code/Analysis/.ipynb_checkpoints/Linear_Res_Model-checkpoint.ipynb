{
 "cells": [
  {
   "cell_type": "code",
   "execution_count": 22,
   "id": "ee0671ee-a23c-406d-9bf0-890b36b75ced",
   "metadata": {},
   "outputs": [],
   "source": [
    "import pandas as pd\n",
    "import datetime\n",
    "import matplotlib.pyplot as plt\n",
    "import statsmodels.formula.api as sm\n",
    "import numpy"
   ]
  },
  {
   "cell_type": "code",
   "execution_count": null,
   "id": "b51250a8-3822-4222-b07d-4ac1f2c598b2",
   "metadata": {},
   "outputs": [],
   "source": []
  },
  {
   "cell_type": "code",
   "execution_count": 23,
   "id": "0549b630-78f2-4d10-98fb-2501cb543ab0",
   "metadata": {},
   "outputs": [],
   "source": [
    "root_dir='/Users/robinruhm/Documents/Research/Fire Hydrology/SlaterFireHydrology';\n",
    "data_dir=root_dir+'/data';\n",
    "processed_dir =data_dir+'/Processed';\n",
    "raw_dir=data_dir+'/Raw';\n",
    "precip_station='salmonriver'\n",
    "river='IndianCreek'"
   ]
  },
  {
   "cell_type": "code",
   "execution_count": 24,
   "id": "8bf88d35-ce4f-415f-a6dd-faca9188fa8e",
   "metadata": {},
   "outputs": [],
   "source": [
    "data_file=processed_dir+'/PrecipFlowData.txt'"
   ]
  },
  {
   "cell_type": "code",
   "execution_count": 25,
   "id": "c08d54cb-9d9d-47b8-836e-64f9b6a061d5",
   "metadata": {},
   "outputs": [],
   "source": [
    "df = pd.read_csv(data_file)"
   ]
  },
  {
   "cell_type": "code",
   "execution_count": 26,
   "id": "36b54f76-a34d-479d-b705-da8c697914c5",
   "metadata": {},
   "outputs": [
    {
     "data": {
      "text/html": [
       "<div>\n",
       "<style scoped>\n",
       "    .dataframe tbody tr th:only-of-type {\n",
       "        vertical-align: middle;\n",
       "    }\n",
       "\n",
       "    .dataframe tbody tr th {\n",
       "        vertical-align: top;\n",
       "    }\n",
       "\n",
       "    .dataframe thead th {\n",
       "        text-align: right;\n",
       "    }\n",
       "</style>\n",
       "<table border=\"1\" class=\"dataframe\">\n",
       "  <thead>\n",
       "    <tr style=\"text-align: right;\">\n",
       "      <th></th>\n",
       "      <th>DATE</th>\n",
       "      <th>PRCP_happycamp</th>\n",
       "      <th>TMAX_happycamp</th>\n",
       "      <th>TMIN_happycamp</th>\n",
       "      <th>TOBS_happycamp</th>\n",
       "      <th>PRCP_orleans</th>\n",
       "      <th>PRCP_salmonriver</th>\n",
       "      <th>PRCP_cavejunction</th>\n",
       "      <th>discharge_IndianCreek</th>\n",
       "      <th>gage_ht_IndianCreek</th>\n",
       "      <th>discharge_IndianCreek_daily_change</th>\n",
       "      <th>discharge_SalmonRiver</th>\n",
       "      <th>gage_ht_SalmonRiver</th>\n",
       "      <th>discharge_SalmonRiver_daily_change</th>\n",
       "      <th>discharge_SuckerCreek</th>\n",
       "      <th>gage_ht_SuckerCreek</th>\n",
       "      <th>discharge_SuckerCreek_daily_change</th>\n",
       "      <th>year</th>\n",
       "      <th>month</th>\n",
       "      <th>day</th>\n",
       "    </tr>\n",
       "  </thead>\n",
       "  <tbody>\n",
       "    <tr>\n",
       "      <th>0</th>\n",
       "      <td>2015-01-01</td>\n",
       "      <td>NaN</td>\n",
       "      <td>NaN</td>\n",
       "      <td>NaN</td>\n",
       "      <td>NaN</td>\n",
       "      <td>NaN</td>\n",
       "      <td>0.0</td>\n",
       "      <td>NaN</td>\n",
       "      <td>310.656250</td>\n",
       "      <td>4.981979</td>\n",
       "      <td>NaN</td>\n",
       "      <td>NaN</td>\n",
       "      <td>NaN</td>\n",
       "      <td>NaN</td>\n",
       "      <td>167.927083</td>\n",
       "      <td>1.787083</td>\n",
       "      <td>NaN</td>\n",
       "      <td>2015</td>\n",
       "      <td>1</td>\n",
       "      <td>1</td>\n",
       "    </tr>\n",
       "    <tr>\n",
       "      <th>1</th>\n",
       "      <td>2015-01-02</td>\n",
       "      <td>0.0</td>\n",
       "      <td>48.0</td>\n",
       "      <td>17.0</td>\n",
       "      <td>18.0</td>\n",
       "      <td>NaN</td>\n",
       "      <td>0.0</td>\n",
       "      <td>NaN</td>\n",
       "      <td>290.437500</td>\n",
       "      <td>4.922396</td>\n",
       "      <td>-20.218750</td>\n",
       "      <td>NaN</td>\n",
       "      <td>NaN</td>\n",
       "      <td>NaN</td>\n",
       "      <td>157.031250</td>\n",
       "      <td>1.755104</td>\n",
       "      <td>-10.895833</td>\n",
       "      <td>2015</td>\n",
       "      <td>1</td>\n",
       "      <td>2</td>\n",
       "    </tr>\n",
       "    <tr>\n",
       "      <th>2</th>\n",
       "      <td>2015-01-03</td>\n",
       "      <td>NaN</td>\n",
       "      <td>NaN</td>\n",
       "      <td>NaN</td>\n",
       "      <td>NaN</td>\n",
       "      <td>NaN</td>\n",
       "      <td>0.0</td>\n",
       "      <td>NaN</td>\n",
       "      <td>272.614583</td>\n",
       "      <td>4.867604</td>\n",
       "      <td>-17.822917</td>\n",
       "      <td>NaN</td>\n",
       "      <td>NaN</td>\n",
       "      <td>NaN</td>\n",
       "      <td>145.177083</td>\n",
       "      <td>1.719583</td>\n",
       "      <td>-11.854167</td>\n",
       "      <td>2015</td>\n",
       "      <td>1</td>\n",
       "      <td>3</td>\n",
       "    </tr>\n",
       "    <tr>\n",
       "      <th>3</th>\n",
       "      <td>2015-01-04</td>\n",
       "      <td>NaN</td>\n",
       "      <td>NaN</td>\n",
       "      <td>NaN</td>\n",
       "      <td>NaN</td>\n",
       "      <td>NaN</td>\n",
       "      <td>0.0</td>\n",
       "      <td>NaN</td>\n",
       "      <td>257.375000</td>\n",
       "      <td>4.817917</td>\n",
       "      <td>-15.239583</td>\n",
       "      <td>NaN</td>\n",
       "      <td>NaN</td>\n",
       "      <td>NaN</td>\n",
       "      <td>135.562500</td>\n",
       "      <td>1.688542</td>\n",
       "      <td>-9.614583</td>\n",
       "      <td>2015</td>\n",
       "      <td>1</td>\n",
       "      <td>4</td>\n",
       "    </tr>\n",
       "    <tr>\n",
       "      <th>4</th>\n",
       "      <td>2015-01-05</td>\n",
       "      <td>0.0</td>\n",
       "      <td>NaN</td>\n",
       "      <td>NaN</td>\n",
       "      <td>33.0</td>\n",
       "      <td>NaN</td>\n",
       "      <td>0.0</td>\n",
       "      <td>NaN</td>\n",
       "      <td>244.250000</td>\n",
       "      <td>4.774167</td>\n",
       "      <td>-13.125000</td>\n",
       "      <td>NaN</td>\n",
       "      <td>NaN</td>\n",
       "      <td>NaN</td>\n",
       "      <td>129.333333</td>\n",
       "      <td>1.668854</td>\n",
       "      <td>-6.229167</td>\n",
       "      <td>2015</td>\n",
       "      <td>1</td>\n",
       "      <td>5</td>\n",
       "    </tr>\n",
       "  </tbody>\n",
       "</table>\n",
       "</div>"
      ],
      "text/plain": [
       "         DATE  PRCP_happycamp  TMAX_happycamp  TMIN_happycamp  TOBS_happycamp  \\\n",
       "0  2015-01-01             NaN             NaN             NaN             NaN   \n",
       "1  2015-01-02             0.0            48.0            17.0            18.0   \n",
       "2  2015-01-03             NaN             NaN             NaN             NaN   \n",
       "3  2015-01-04             NaN             NaN             NaN             NaN   \n",
       "4  2015-01-05             0.0             NaN             NaN            33.0   \n",
       "\n",
       "   PRCP_orleans  PRCP_salmonriver  PRCP_cavejunction  discharge_IndianCreek  \\\n",
       "0           NaN               0.0                NaN             310.656250   \n",
       "1           NaN               0.0                NaN             290.437500   \n",
       "2           NaN               0.0                NaN             272.614583   \n",
       "3           NaN               0.0                NaN             257.375000   \n",
       "4           NaN               0.0                NaN             244.250000   \n",
       "\n",
       "   gage_ht_IndianCreek  discharge_IndianCreek_daily_change  \\\n",
       "0             4.981979                                 NaN   \n",
       "1             4.922396                          -20.218750   \n",
       "2             4.867604                          -17.822917   \n",
       "3             4.817917                          -15.239583   \n",
       "4             4.774167                          -13.125000   \n",
       "\n",
       "   discharge_SalmonRiver  gage_ht_SalmonRiver  \\\n",
       "0                    NaN                  NaN   \n",
       "1                    NaN                  NaN   \n",
       "2                    NaN                  NaN   \n",
       "3                    NaN                  NaN   \n",
       "4                    NaN                  NaN   \n",
       "\n",
       "   discharge_SalmonRiver_daily_change  discharge_SuckerCreek  \\\n",
       "0                                 NaN             167.927083   \n",
       "1                                 NaN             157.031250   \n",
       "2                                 NaN             145.177083   \n",
       "3                                 NaN             135.562500   \n",
       "4                                 NaN             129.333333   \n",
       "\n",
       "   gage_ht_SuckerCreek  discharge_SuckerCreek_daily_change  year  month  day  \n",
       "0             1.787083                                 NaN  2015      1    1  \n",
       "1             1.755104                          -10.895833  2015      1    2  \n",
       "2             1.719583                          -11.854167  2015      1    3  \n",
       "3             1.688542                           -9.614583  2015      1    4  \n",
       "4             1.668854                           -6.229167  2015      1    5  "
      ]
     },
     "execution_count": 26,
     "metadata": {},
     "output_type": "execute_result"
    }
   ],
   "source": [
    "df.head()"
   ]
  },
  {
   "cell_type": "code",
   "execution_count": 27,
   "id": "f3a95ebb-6518-4cc3-a25a-a67fe6af8d51",
   "metadata": {},
   "outputs": [],
   "source": [
    "df['decay_coef_Indian_Creek'] = (df['discharge_IndianCreek'] - df['discharge_IndianCreek_daily_change'])/df['discharge_IndianCreek_daily_change']"
   ]
  },
  {
   "cell_type": "code",
   "execution_count": 28,
   "id": "6211b47d-dcd2-4cb4-be58-5956f36402ed",
   "metadata": {},
   "outputs": [],
   "source": [
    "df['discharge_IndianCreek_previous_day'] = (df['discharge_IndianCreek'] - df['discharge_IndianCreek_daily_change'])"
   ]
  },
  {
   "cell_type": "code",
   "execution_count": 29,
   "id": "edb2eff8-75c3-446a-8c8a-40e481c69b10",
   "metadata": {},
   "outputs": [],
   "source": [
    "df['discharge_IndianCreek_daily_change_positive'] = -df['discharge_IndianCreek_daily_change']\n",
    "df['post-fire'] = "
   ]
  },
  {
   "cell_type": "code",
   "execution_count": 30,
   "id": "c8a3f96e-830c-49e2-8f29-d78620d1abd6",
   "metadata": {},
   "outputs": [],
   "source": [
    "decrease_df = df[df['discharge_IndianCreek_daily_change'] < 0]\n"
   ]
  },
  {
   "cell_type": "code",
   "execution_count": null,
   "id": "aa828735-933f-4465-9b39-d73fde4bf18e",
   "metadata": {},
   "outputs": [],
   "source": [
    "#decrease_df_ = df[df['discharge_IndianCreek_daily_change'] < 0]"
   ]
  },
  {
   "cell_type": "code",
   "execution_count": 31,
   "id": "ad89f0f6-e36e-4309-bbc1-abfbb401842c",
   "metadata": {},
   "outputs": [
    {
     "data": {
      "text/plain": [
       "<AxesSubplot:xlabel='discharge_IndianCreek_previous_day', ylabel='discharge_IndianCreek_daily_change_positive'>"
      ]
     },
     "execution_count": 31,
     "metadata": {},
     "output_type": "execute_result"
    },
    {
     "data": {
      "image/png": "[encoded data removed]",
      "text/plain": [
       "<Figure size 640x480 with 1 Axes>"
      ]
     },
     "metadata": {},
     "output_type": "display_data"
    }
   ],
   "source": [
    "decrease_df.plot('discharge_IndianCreek_previous_day', 'discharge_IndianCreek_daily_change_positive', kind = 'scatter', loglog=True)"
   ]
  },
  {
   "cell_type": "code",
   "execution_count": null,
   "id": "452d71a4-a0d0-4be0-8db1-e1d9b0ccc64c",
   "metadata": {},
   "outputs": [],
   "source": []
  }
 ],
 "metadata": {
  "kernelspec": {
   "display_name": "Python 3 (ipykernel)",
   "language": "python",
   "name": "python3"
  },
  "language_info": {
   "codemirror_mode": {
    "name": "ipython",
    "version": 3
   },
   "file_extension": ".py",
   "mimetype": "text/x-python",
   "name": "python",
   "nbconvert_exporter": "python",
   "pygments_lexer": "ipython3",
   "version": "3.9.13"
  }
 },
 "nbformat": 4,
 "nbformat_minor": 5
}
